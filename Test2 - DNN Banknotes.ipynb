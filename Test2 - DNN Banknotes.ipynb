{
 "cells": [
  {
   "cell_type": "code",
   "execution_count": null,
   "id": "50d6fbf5",
   "metadata": {},
   "outputs": [],
   "source": []
  },
  {
   "cell_type": "code",
   "execution_count": 1,
   "id": "c1b2bb63",
   "metadata": {},
   "outputs": [],
   "source": [
    "# import tensorflow as tf\n",
    "# from tensorflow.keras import datasets, layers, models\n",
    "# from tensorflow.keras.models import Sequential\n",
    "# from tensorflow.keras.layers import Conv2D, MaxPooling2D, Flatten, Dense\n",
    "# import matplotlib.pyplot as plt\n",
    "# %matplotlib inline"
   ]
  },
  {
   "cell_type": "code",
   "execution_count": 3,
   "id": "4a0a6160",
   "metadata": {},
   "outputs": [],
   "source": [
    "import pandas as pd\n",
    "from sklearn.model_selection import train_test_split\n",
    "from tensorflow.keras.layers import Dense\n",
    "from tensorflow.keras.models import Sequential"
   ]
  },
  {
   "cell_type": "code",
   "execution_count": 4,
   "id": "49e3ae64",
   "metadata": {},
   "outputs": [
    {
     "data": {
      "text/html": [
       "<div>\n",
       "<style scoped>\n",
       "    .dataframe tbody tr th:only-of-type {\n",
       "        vertical-align: middle;\n",
       "    }\n",
       "\n",
       "    .dataframe tbody tr th {\n",
       "        vertical-align: top;\n",
       "    }\n",
       "\n",
       "    .dataframe thead th {\n",
       "        text-align: right;\n",
       "    }\n",
       "</style>\n",
       "<table border=\"1\" class=\"dataframe\">\n",
       "  <thead>\n",
       "    <tr style=\"text-align: right;\">\n",
       "      <th></th>\n",
       "      <th>variance</th>\n",
       "      <th>skewness</th>\n",
       "      <th>curtosis</th>\n",
       "      <th>entropy</th>\n",
       "      <th>class</th>\n",
       "    </tr>\n",
       "  </thead>\n",
       "  <tbody>\n",
       "    <tr>\n",
       "      <th>0</th>\n",
       "      <td>-0.89569</td>\n",
       "      <td>3.00250</td>\n",
       "      <td>-3.606700</td>\n",
       "      <td>-3.44570</td>\n",
       "      <td>1</td>\n",
       "    </tr>\n",
       "    <tr>\n",
       "      <th>1</th>\n",
       "      <td>3.47690</td>\n",
       "      <td>-0.15314</td>\n",
       "      <td>2.530000</td>\n",
       "      <td>2.44950</td>\n",
       "      <td>0</td>\n",
       "    </tr>\n",
       "    <tr>\n",
       "      <th>2</th>\n",
       "      <td>3.91020</td>\n",
       "      <td>6.06500</td>\n",
       "      <td>-2.453400</td>\n",
       "      <td>-0.68234</td>\n",
       "      <td>0</td>\n",
       "    </tr>\n",
       "    <tr>\n",
       "      <th>3</th>\n",
       "      <td>0.60731</td>\n",
       "      <td>3.95440</td>\n",
       "      <td>-4.772000</td>\n",
       "      <td>-4.48530</td>\n",
       "      <td>1</td>\n",
       "    </tr>\n",
       "    <tr>\n",
       "      <th>4</th>\n",
       "      <td>2.37180</td>\n",
       "      <td>7.49080</td>\n",
       "      <td>0.015989</td>\n",
       "      <td>-1.74140</td>\n",
       "      <td>0</td>\n",
       "    </tr>\n",
       "  </tbody>\n",
       "</table>\n",
       "</div>"
      ],
      "text/plain": [
       "   variance  skewness  curtosis  entropy  class\n",
       "0  -0.89569   3.00250 -3.606700 -3.44570      1\n",
       "1   3.47690  -0.15314  2.530000  2.44950      0\n",
       "2   3.91020   6.06500 -2.453400 -0.68234      0\n",
       "3   0.60731   3.95440 -4.772000 -4.48530      1\n",
       "4   2.37180   7.49080  0.015989 -1.74140      0"
      ]
     },
     "execution_count": 4,
     "metadata": {},
     "output_type": "execute_result"
    }
   ],
   "source": [
    "data = pd.read_csv('C:/projects/research paper/collections/pLessons1/banknotes.csv')\n",
    "data.head()"
   ]
  },
  {
   "cell_type": "code",
   "execution_count": 5,
   "id": "4ae3d551",
   "metadata": {},
   "outputs": [
    {
     "data": {
      "text/plain": [
       "array([1, 0], dtype=int64)"
      ]
     },
     "execution_count": 5,
     "metadata": {},
     "output_type": "execute_result"
    }
   ],
   "source": [
    "data['class'].unique()"
   ]
  },
  {
   "cell_type": "code",
   "execution_count": 7,
   "id": "2bfe22d4",
   "metadata": {},
   "outputs": [
    {
     "data": {
      "text/plain": [
       "variance    0\n",
       "skewness    0\n",
       "curtosis    0\n",
       "entropy     0\n",
       "class       0\n",
       "dtype: int64"
      ]
     },
     "execution_count": 7,
     "metadata": {},
     "output_type": "execute_result"
    }
   ],
   "source": [
    "data.isna().sum()"
   ]
  },
  {
   "cell_type": "code",
   "execution_count": 8,
   "id": "c3990879",
   "metadata": {},
   "outputs": [],
   "source": [
    "# Features and Labels .... Xs and y\n",
    "\n",
    "X = data.iloc[ : , :-1]\n",
    "y = data.iloc[ : , -1]"
   ]
  },
  {
   "cell_type": "code",
   "execution_count": 9,
   "id": "c15c8f03",
   "metadata": {},
   "outputs": [],
   "source": [
    "X_train, X_test, y_train, y_test = train_test_split(X, y , test_size = 0.4,  random_state=42)"
   ]
  },
  {
   "cell_type": "code",
   "execution_count": 10,
   "id": "8cfd50a9",
   "metadata": {},
   "outputs": [],
   "source": [
    "model = Sequential()\n",
    "model.add(Dense(8, input_dim=4, activation='relu'))\n",
    "    # model.add(Dropout(.2))\n",
    "#model.add(Dense(4, activation='relu'))\n",
    "    # model.add(Dropout(.2))\n",
    "model.add(Dense(1, activation='sigmoid'))\n",
    "   \n",
    "model.compile(loss='binary_crossentropy', optimizer='adam', metrics=['accuracy'])"
   ]
  },
  {
   "cell_type": "code",
   "execution_count": 11,
   "id": "04ea1bec",
   "metadata": {},
   "outputs": [
    {
     "name": "stdout",
     "output_type": "stream",
     "text": [
      "Epoch 1/20\n",
      "26/26 - 0s - loss: 0.5468 - accuracy: 0.7120\n",
      "Epoch 2/20\n",
      "26/26 - 0s - loss: 0.4699 - accuracy: 0.7388\n",
      "Epoch 3/20\n",
      "26/26 - 0s - loss: 0.4108 - accuracy: 0.7752\n",
      "Epoch 4/20\n",
      "26/26 - 0s - loss: 0.3639 - accuracy: 0.8190\n",
      "Epoch 5/20\n",
      "26/26 - 0s - loss: 0.3245 - accuracy: 0.8518\n",
      "Epoch 6/20\n",
      "26/26 - 0s - loss: 0.2927 - accuracy: 0.8773\n",
      "Epoch 7/20\n",
      "26/26 - 0s - loss: 0.2652 - accuracy: 0.8955\n",
      "Epoch 8/20\n",
      "26/26 - 0s - loss: 0.2429 - accuracy: 0.9089\n",
      "Epoch 9/20\n",
      "26/26 - 0s - loss: 0.2229 - accuracy: 0.9247\n",
      "Epoch 10/20\n",
      "26/26 - 0s - loss: 0.2057 - accuracy: 0.9380\n",
      "Epoch 11/20\n",
      "26/26 - 0s - loss: 0.1892 - accuracy: 0.9599\n",
      "Epoch 12/20\n",
      "26/26 - 0s - loss: 0.1749 - accuracy: 0.9672\n",
      "Epoch 13/20\n",
      "26/26 - 0s - loss: 0.1616 - accuracy: 0.9733\n",
      "Epoch 14/20\n",
      "26/26 - 0s - loss: 0.1501 - accuracy: 0.9733\n",
      "Epoch 15/20\n",
      "26/26 - 0s - loss: 0.1399 - accuracy: 0.9757\n",
      "Epoch 16/20\n",
      "26/26 - 0s - loss: 0.1304 - accuracy: 0.9854\n",
      "Epoch 17/20\n",
      "26/26 - 0s - loss: 0.1220 - accuracy: 0.9854\n",
      "Epoch 18/20\n",
      "26/26 - 0s - loss: 0.1146 - accuracy: 0.9854\n",
      "Epoch 19/20\n",
      "26/26 - 0s - loss: 0.1077 - accuracy: 0.9854\n",
      "Epoch 20/20\n",
      "26/26 - 0s - loss: 0.1015 - accuracy: 0.9866\n",
      "18/18 - 0s - loss: 0.0917 - accuracy: 0.9836\n"
     ]
    },
    {
     "data": {
      "text/plain": [
       "[0.09173048287630081, 0.9836065769195557]"
      ]
     },
     "execution_count": 11,
     "metadata": {},
     "output_type": "execute_result"
    }
   ],
   "source": [
    "model.fit(X_train, y_train, epochs=20, verbose=2)\n",
    "model.evaluate(X_test, y_test, verbose=2)"
   ]
  },
  {
   "cell_type": "markdown",
   "id": "dfe5ba35",
   "metadata": {},
   "source": [
    "Enhancing the above model a bit for a better accuracy"
   ]
  },
  {
   "cell_type": "code",
   "execution_count": null,
   "id": "4136ddb7",
   "metadata": {},
   "outputs": [],
   "source": [
    "# model = Sequential()\n",
    "# model.add(Dense(8, input_dim=4, activation='relu'))\n",
    "#     # model.add(Dropout(.2))\n",
    "# #model.add(Dense(4, activation='relu'))\n",
    "#     # model.add(Dropout(.2))\n",
    "# model.add(Dense(1, activation='sigmoid'))\n",
    "   \n",
    "# model.compile(loss='binary_crossentropy', optimizer='adam', metrics=['accuracy'])"
   ]
  }
 ],
 "metadata": {
  "kernelspec": {
   "display_name": "Python 3",
   "language": "python",
   "name": "python3"
  },
  "language_info": {
   "codemirror_mode": {
    "name": "ipython",
    "version": 3
   },
   "file_extension": ".py",
   "mimetype": "text/x-python",
   "name": "python",
   "nbconvert_exporter": "python",
   "pygments_lexer": "ipython3",
   "version": "3.8.8"
  }
 },
 "nbformat": 4,
 "nbformat_minor": 5
}
